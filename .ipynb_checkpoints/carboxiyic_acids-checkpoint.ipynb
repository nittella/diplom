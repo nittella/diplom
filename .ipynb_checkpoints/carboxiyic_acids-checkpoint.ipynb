{
 "cells": [
  {
   "cell_type": "code",
   "execution_count": 1,
   "metadata": {},
   "outputs": [],
   "source": [
    "from load_structures import load_structures\n",
    "from create_structures import create_structures\n",
    "import matplotlib.pyplot as plt\n",
    "from find_function_max import find_function_max\n",
    "from read_spectrum_curve import Spectrum\n",
    "from find_intencity_sf import find_intencity_sf\n",
    "import numpy as np\n",
    "\n",
    "\n",
    "import warnings\n",
    "warnings.filterwarnings('ignore')"
   ]
  },
  {
   "cell_type": "code",
   "execution_count": 3,
   "metadata": {},
   "outputs": [
    {
     "name": "stdout",
     "output_type": "stream",
     "text": [
      "New structures have been successfully created!\n",
      "Structure(s) ghole1 gketoohw1 gketoohw12 have been successfully loaded!\n"
     ]
    }
   ],
   "source": [
    "structures_list = ['ghole1', 'gketoohw1', 'gketoohw12', ]\n",
    "create_structures(structures_list)\n",
    "structs = load_structures(structures_list)"
   ]
  },
  {
   "cell_type": "markdown",
   "metadata": {},
   "source": [
    "# Описание структур\n",
    "НЕТ СТРУКТУР!\n",
    "\n",
    "\n"
   ]
  },
  {
   "cell_type": "code",
   "execution_count": null,
   "metadata": {},
   "outputs": [],
   "source": []
  }
 ],
 "metadata": {
  "kernelspec": {
   "display_name": "Python 3",
   "language": "python",
   "name": "python3"
  },
  "language_info": {
   "codemirror_mode": {
    "name": "ipython",
    "version": 3
   },
   "file_extension": ".py",
   "mimetype": "text/x-python",
   "name": "python",
   "nbconvert_exporter": "python",
   "pygments_lexer": "ipython3",
   "version": "3.7.5"
  }
 },
 "nbformat": 4,
 "nbformat_minor": 2
}
